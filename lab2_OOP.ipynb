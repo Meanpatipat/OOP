{
 "cells": [
  {
   "cell_type": "code",
   "execution_count": 2,
   "metadata": {},
   "outputs": [
    {
     "name": "stdout",
     "output_type": "stream",
     "text": [
      "* \n",
      "* * \n",
      "* * * \n",
      "* * * * \n",
      "* * * * * \n"
     ]
    }
   ],
   "source": [
    "# lab 2.1 รูปที่ 1 \n",
    "for i in range(1,6):\n",
    "    print(''*(6-i),end='')\n",
    "    print('* ' * i)\n"
   ]
  },
  {
   "cell_type": "code",
   "execution_count": 3,
   "metadata": {},
   "outputs": [
    {
     "name": "stdout",
     "output_type": "stream",
     "text": [
      "* * * * * \n",
      "* * * * \n",
      "* * * \n",
      "* * \n",
      "* \n"
     ]
    }
   ],
   "source": [
    "# lab 2.1 รูปที่ 2\n",
    "\n",
    "for i in range(5,0,-1):\n",
    "    print(''*(5-i),end='')\n",
    "    print('* '*i)\n",
    "    \n"
   ]
  },
  {
   "cell_type": "code",
   "execution_count": 4,
   "metadata": {},
   "outputs": [
    {
     "name": "stdout",
     "output_type": "stream",
     "text": [
      "    * \n",
      "   * * \n",
      "  * * * \n",
      " * * * * \n",
      "* * * * * \n"
     ]
    }
   ],
   "source": [
    "# lab 2.1 รูปที่ 3\n",
    "# กำหนดจำนวนแถวสูงสุด\n",
    "max_rows = 5\n",
    "\n",
    "# วนลูปสำหรับสร้างรูปแบบ\n",
    "for i in range(1, max_rows + 1):\n",
    "    # พิมพ์ช่องว่าง\n",
    "    print(' ' * (max_rows - i), end='')\n",
    "    \n",
    "    # พิมพ์เครื่องหมายดอกจัน\n",
    "    print('* ' * i)\n"
   ]
  },
  {
   "cell_type": "code",
   "execution_count": 5,
   "metadata": {},
   "outputs": [
    {
     "name": "stdout",
     "output_type": "stream",
     "text": [
      "* * * * * \n",
      " * * * * \n",
      "  * * * \n",
      "   * * \n",
      "    * \n"
     ]
    }
   ],
   "source": [
    "# lab 2.1 รูปที่ 4\n",
    "# กำหนดจำนวนแถวสูงสุด\n",
    "max_rows = 5\n",
    "\n",
    "# วนลูปสำหรับสร้างรูปแบบจากมากไปน้อย\n",
    "for i in range(max_rows, 0, -1):\n",
    "    # พิมพ์ช่องว่าง\n",
    "    print(' ' * (max_rows - i), end='')\n",
    "    \n",
    "    # พิมพ์เครื่องหมายดอกจัน\n",
    "    print('* ' * i)\n"
   ]
  },
  {
   "cell_type": "code",
   "execution_count": 6,
   "metadata": {},
   "outputs": [
    {
     "name": "stdout",
     "output_type": "stream",
     "text": [
      "        * \n",
      "      * * \n",
      "    * * * \n",
      "  * * * * \n",
      "* * * * * \n"
     ]
    }
   ],
   "source": [
    "# lab 2.1 รูปที่ 5\n",
    "max_rows = 5\n",
    "\n",
    "for i in range(1,max_rows + 1):\n",
    "    #ปริ้นช่องว่าง\n",
    "    print('  '*(max_rows-i),end='')\n",
    "    #ปริ้น *\n",
    "    print('* '*i)\n",
    "\n"
   ]
  },
  {
   "cell_type": "code",
   "execution_count": 7,
   "metadata": {},
   "outputs": [
    {
     "name": "stdout",
     "output_type": "stream",
     "text": [
      "* \n",
      "* * \n",
      "* * * \n",
      "* * * * \n",
      "* * * * * \n"
     ]
    }
   ],
   "source": [
    "# lab2.2 ห้ามใช้ loop (ใช้ Recursive) รูปที่ 1 \n",
    "def print_pattern(n, max_rows):\n",
    "    if n > max_rows:\n",
    "        return\n",
    "    # พิมพ์ช่องว่าง\n",
    "    print('' * (max_rows - n), end='')\n",
    "    # พิมพ์เครื่องหมายดอกจัน\n",
    "    print('* ' * n)\n",
    "    # เรียกใช้ฟังก์ชันนี้อีกครั้งโดยเพิ่มค่า n\n",
    "    print_pattern(n + 1, max_rows)\n",
    "\n",
    "# กำหนดจำนวนแถวสูงสุด\n",
    "max_rows = 5\n",
    "\n",
    "# เริ่มต้นการพิมพ์รูปแบบด้วยการเรียกใช้ฟังก์ชันที่ n = 1\n",
    "print_pattern(1, max_rows)\n"
   ]
  },
  {
   "cell_type": "code",
   "execution_count": 8,
   "metadata": {},
   "outputs": [
    {
     "name": "stdout",
     "output_type": "stream",
     "text": [
      "* * * * * \n",
      "* * * * \n",
      "* * * \n",
      "* * \n",
      "* \n"
     ]
    }
   ],
   "source": [
    "# lab2.2 ห้ามใช้ loop (ใช้ Recursive) รูปที่ 2\n",
    "def print_pattern(max_rows, n):\n",
    "    if n > max_rows:\n",
    "        return\n",
    "    # พิมพ์ช่องว่าง\n",
    "    print('' * (max_rows - n), end='')\n",
    "    # พิมพ์เครื่องหมายดอกจัน\n",
    "    print('* ' * max_rows)\n",
    "    # เรียกใช้ฟังก์ชันนี้อีกครั้งโดยเพิ่มค่า n\n",
    "    print_pattern(max_rows -1, n)\n",
    "\n",
    "\n",
    "\n",
    "# เริ่มต้นการพิมพ์รูปแบบด้วยการเรียกใช้ฟังก์ชันที่ n = 1\n",
    "print_pattern(5, 1)\n"
   ]
  },
  {
   "cell_type": "code",
   "execution_count": 9,
   "metadata": {},
   "outputs": [
    {
     "name": "stdout",
     "output_type": "stream",
     "text": [
      "    * \n",
      "   * * \n",
      "  * * * \n",
      " * * * * \n",
      "* * * * * \n"
     ]
    }
   ],
   "source": [
    "# lab2.2 ห้ามใช้ loop (ใช้ Recursive) รูปที่ 3\n",
    "def print_pattern(n, max_rows):\n",
    "    if n > max_rows:\n",
    "        return\n",
    "    # พิมพ์ช่องว่าง\n",
    "    print(' ' * (max_rows - n), end='')\n",
    "    # พิมพ์เครื่องหมายดอกจัน\n",
    "    print('* ' * n)\n",
    "    # เรียกใช้ฟังก์ชันนี้อีกครั้งโดยเพิ่มค่า n\n",
    "    print_pattern(n + 1, max_rows)\n",
    "\n",
    "# กำหนดจำนวนแถวสูงสุด\n",
    "max_rows = 5\n",
    "\n",
    "# เริ่มต้นการพิมพ์รูปแบบด้วยการเรียกใช้ฟังก์ชันที่ n = 1\n",
    "print_pattern(1, max_rows)\n"
   ]
  },
  {
   "cell_type": "code",
   "execution_count": 10,
   "metadata": {},
   "outputs": [
    {
     "name": "stdout",
     "output_type": "stream",
     "text": [
      "* * * * * \n",
      " * * * * \n",
      "  * * * \n",
      "   * * \n",
      "    * \n"
     ]
    }
   ],
   "source": [
    "# lab2.2 ห้ามใช้ loop (ใช้ Recursive) รูปที่ 4\n",
    "def print_pattern(max_rows, n):\n",
    "    if n > max_rows:\n",
    "        return\n",
    "    # พิมพ์ช่องว่าง\n",
    "    print(' ' * (5 - max_rows), end='')\n",
    "    # พิมพ์เครื่องหมายดอกจัน\n",
    "    print('* ' * max_rows)\n",
    "    # เรียกใช้ฟังก์ชันนี้อีกครั้งโดยเพิ่มค่า n\n",
    "    print_pattern(max_rows -1, n)\n",
    "\n",
    "\n",
    "\n",
    "# เริ่มต้นการพิมพ์รูปแบบด้วยการเรียกใช้ฟังก์ชันที่ n = 1\n",
    "print_pattern(5, 1)\n"
   ]
  },
  {
   "cell_type": "code",
   "execution_count": 12,
   "metadata": {},
   "outputs": [
    {
     "name": "stdout",
     "output_type": "stream",
     "text": [
      "        * \n",
      "      * * \n",
      "    * * * \n",
      "  * * * * \n",
      "* * * * * \n"
     ]
    }
   ],
   "source": [
    "# lab2.2 ห้ามใช้ loop (ใช้ Recursive) รูปที่ 5 \n",
    "def print_pattern(n, max_rows):\n",
    "    if n > max_rows:\n",
    "        return\n",
    "    # พิมพ์ช่องว่าง\n",
    "    print('  ' * (max_rows - n), end='')\n",
    "    # พิมพ์เครื่องหมายดอกจัน\n",
    "    print('* ' * n)\n",
    "    # เรียกใช้ฟังก์ชันนี้อีกครั้งโดยเพิ่มค่า n\n",
    "    print_pattern(n + 1, max_rows)\n",
    "\n",
    "# กำหนดจำนวนแถวสูงสุด\n",
    "max_rows = 5\n",
    "\n",
    "# เริ่มต้นการพิมพ์รูปแบบด้วยการเรียกใช้ฟังก์ชันที่ n = 1\n",
    "print_pattern(1, max_rows)\n"
   ]
  }
 ],
 "metadata": {
  "kernelspec": {
   "display_name": "Python 3",
   "language": "python",
   "name": "python3"
  },
  "language_info": {
   "codemirror_mode": {
    "name": "ipython",
    "version": 3
   },
   "file_extension": ".py",
   "mimetype": "text/x-python",
   "name": "python",
   "nbconvert_exporter": "python",
   "pygments_lexer": "ipython3",
   "version": "3.11.9"
  }
 },
 "nbformat": 4,
 "nbformat_minor": 2
}
